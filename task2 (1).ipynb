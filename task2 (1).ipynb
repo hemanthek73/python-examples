{
 "cells": [
  {
   "cell_type": "code",
   "execution_count": 18,
   "id": "63b2836c-2f08-4772-8fdd-3c05d95c68e5",
   "metadata": {},
   "outputs": [
    {
     "name": "stdin",
     "output_type": "stream",
     "text": [
      "enter the Height in cm: 171\n",
      "enter the weight in kg: 72\n"
     ]
    },
    {
     "name": "stdout",
     "output_type": "stream",
     "text": [
      "The BMI value is: 22.47 and result is :Normal\n"
     ]
    }
   ],
   "source": [
    "def Bmi_calculator(height,weight):\n",
    "    BMI=weight/(height/100)**2\n",
    "    if BMI<18.5:\n",
    "        return \"Underweight\"\n",
    "    elif BMI>18.5 and BMI<24.9:\n",
    "        return \"Normal\"\n",
    "    elif BMI>25.0 and BMI<29.9:\n",
    "        return \"Overweight\"\n",
    "    elif BMI>30.0:\n",
    "        return \"Obese\"\n",
    "\n",
    "height=int(input(\"enter the Height in cm:\"))\n",
    "weight=int(input(\"enter the weight in kg:\"))\n",
    "result=Bmi_calculator(height,weight)\n",
    "print(f\"The BMI value is: {BMI:.2f} and result is :{result}\")\n"
   ]
  },
  {
   "cell_type": "code",
   "execution_count": null,
   "id": "11ad3c8e-f857-415e-99e9-b0e8f3f0015c",
   "metadata": {},
   "outputs": [],
   "source": []
  },
  {
   "cell_type": "code",
   "execution_count": null,
   "id": "3ff766e4-324f-4944-b182-f7479049db57",
   "metadata": {},
   "outputs": [],
   "source": []
  }
 ],
 "metadata": {
  "kernelspec": {
   "display_name": "Python 3 (ipykernel)",
   "language": "python",
   "name": "python3"
  },
  "language_info": {
   "codemirror_mode": {
    "name": "ipython",
    "version": 3
   },
   "file_extension": ".py",
   "mimetype": "text/x-python",
   "name": "python",
   "nbconvert_exporter": "python",
   "pygments_lexer": "ipython3",
   "version": "3.12.1"
  }
 },
 "nbformat": 4,
 "nbformat_minor": 5
}
