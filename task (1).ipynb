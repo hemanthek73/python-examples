{
 "cells": [
  {
   "cell_type": "code",
   "execution_count": 24,
   "id": "76912921-78d4-480c-80ca-92367895d289",
   "metadata": {},
   "outputs": [
    {
     "name": "stdout",
     "output_type": "stream",
     "text": [
      "[(1, 2), (3, 1), (4, 1), (5, 1), (6, 1), (7, 1), (8, 1)]\n"
     ]
    }
   ],
   "source": [
    "list1=[1,1,3,4,5,6,7,8]\n",
    "def occurency(list1):\n",
    "  if not list1:\n",
    "    return []\n",
    "  count=1\n",
    "  res=[]\n",
    "  for i in range(1,len(list1)):\n",
    "    if list1[i]==list1[i-1]:\n",
    "        count+=1\n",
    "    else:\n",
    "      res.append((list1[i-1],count))\n",
    "      count=1\n",
    "  res.append((list1[-1],count))\n",
    "  return res \n",
    "res=occurency(list1)\n",
    "print(res)"
   ]
  },
  {
   "cell_type": "code",
   "execution_count": 23,
   "id": "d52e0d8a-2160-49d9-b381-6641f4adc981",
   "metadata": {},
   "outputs": [
    {
     "name": "stdin",
     "output_type": "stream",
     "text": [
      "enter the search num:-> 2\n"
     ]
    },
    {
     "name": "stdout",
     "output_type": "stream",
     "text": [
      "The Index of the Seach element is:-> 1\n"
     ]
    }
   ],
   "source": [
    "num=[1,2,3,4,5,6,7,8,9]\n",
    "target=int(input(\"enter the search num:->\"))\n",
    "def bin_search(num,target):\n",
    "  start=0\n",
    "  end=len(num)-1\n",
    "  while start<=end:\n",
    "    mid=(start+end)//2\n",
    "    if num[mid]==target:\n",
    "      return mid\n",
    "    elif num[mid]<target:\n",
    "      start=mid+1\n",
    "    else:\n",
    "      end=mid-1\n",
    "result=bin_search(num,target)\n",
    "print('The Index of the Seach element is:->',result)"
   ]
  },
  {
   "cell_type": "code",
   "execution_count": 21,
   "id": "b234f4fa-65ec-4945-9742-2e1bddae968b",
   "metadata": {},
   "outputs": [
    {
     "name": "stdout",
     "output_type": "stream",
     "text": [
      "[(1, 2), (3, 1), (4, 1), (5, 1), (6, 1), (7, 1), (8, 1)]\n"
     ]
    }
   ],
   "source": [
    "list1=[1,1,3,4,5,6,7,8]\n",
    "def occurency(list1):\n",
    "  if not list1:\n",
    "    return []\n",
    "  count=1\n",
    "  res=[]\n",
    "  for i in range(1,len(list1)):\n",
    "    if list1[i]==list1[i-1]:\n",
    "        count+=1\n",
    "    else:\n",
    "      res.append((list1[i-1],count))\n",
    "      count=1\n",
    "  res.append((list1[-1],count))\n",
    "  return res \n",
    "res=occurency(list1)\n",
    "print(res)"
   ]
  },
  {
   "cell_type": "code",
   "execution_count": 5,
   "id": "110d6f87-24e5-4351-ba4d-16c37549e368",
   "metadata": {},
   "outputs": [
    {
     "name": "stdout",
     "output_type": "stream",
     "text": [
      "['ajay', 'kumar', 'jay', 'ram', 'raj', 'hemanth']\n"
     ]
    }
   ],
   "source": [
    "def unique_name(name1,name2):\n",
    "  unique_name1=set(name1)\n",
    "  unique_name2=set(name2)\n",
    "  return(set(unique_name1|unique_name2))\n",
    "result3=list(unique_name(['hemanth','ajay','raj','raj'],['kumar','jay','ram','jay']))\n",
    "print(result3)"
   ]
  },
  {
   "cell_type": "code",
   "execution_count": 6,
   "id": "eefe728f-d515-48a3-8efc-33b41818079f",
   "metadata": {},
   "outputs": [
    {
     "name": "stdout",
     "output_type": "stream",
     "text": [
      "{'Hemanth': ['file1.txt', 'file3.txt'], 'Kumar': ['file2.txt', 'file4.txt'], 'raj': ['file5.txt']}\n"
     ]
    }
   ],
   "source": [
    "files={\n",
    "  'file1.txt':'Hemanth',\n",
    "  'file2.txt':'Kumar',\n",
    "  'file3.txt':'Hemanth',\n",
    "  'file4.txt':'Kumar',\n",
    "  'file5.txt':'raj'\n",
    "}\n",
    "def Owner_files(files):\n",
    "  own_files={}\n",
    "  for file,owner in files.items():\n",
    "    if owner not in own_files:\n",
    "      own_files[owner]=[]\n",
    "    own_files[owner].append(file)\n",
    "  return own_files\n",
    "result4=Owner_files(files)\n",
    "print(result4)"
   ]
  },
  {
   "cell_type": "code",
   "execution_count": null,
   "id": "5dc8b124-f691-40e3-9400-c158c08fef80",
   "metadata": {},
   "outputs": [],
   "source": []
  }
 ],
 "metadata": {
  "kernelspec": {
   "display_name": "Python 3 (ipykernel)",
   "language": "python",
   "name": "python3"
  },
  "language_info": {
   "codemirror_mode": {
    "name": "ipython",
    "version": 3
   },
   "file_extension": ".py",
   "mimetype": "text/x-python",
   "name": "python",
   "nbconvert_exporter": "python",
   "pygments_lexer": "ipython3",
   "version": "3.12.1"
  }
 },
 "nbformat": 4,
 "nbformat_minor": 5
}
